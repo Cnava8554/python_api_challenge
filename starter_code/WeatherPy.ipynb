{
 "cells": [
  {
   "cell_type": "markdown",
   "metadata": {},
   "source": [
    "# WeatherPy\n",
    "----\n",
    "\n",
    "#### Note\n",
    "* Instructions have been included for each segment. You do not have to follow them exactly, but they are included to help you think through the steps."
   ]
  },
  {
   "cell_type": "code",
   "execution_count": 17,
   "metadata": {
    "scrolled": true
   },
   "outputs": [],
   "source": [
    "# Dependencies and Setup\n",
    "import matplotlib.pyplot as plt\n",
    "import pandas as pd\n",
    "import numpy as np\n",
    "import requests\n",
    "import time\n",
    "import os\n",
    "from scipy.stats import linregress\n",
    "\n",
    "# Import API key\n",
    "from api_keys import weather_api_key\n",
    "\n",
    "# Incorporated citipy to determine city based on latitude and longitude\n",
    "from citipy import citipy\n",
    "\n",
    "# Output File (CSV)\n",
    "output_data_file = \"../output_data/cities.csv\"\n",
    "\n",
    "# Range of latitudes and longitudes\n",
    "lat_range = (-90, 90)\n",
    "lng_range = (-180, 180)"
   ]
  },
  {
   "cell_type": "markdown",
   "metadata": {},
   "source": [
    "## Generate Cities List"
   ]
  },
  {
   "cell_type": "code",
   "execution_count": 3,
   "metadata": {},
   "outputs": [
    {
     "data": {
      "text/plain": [
       "612"
      ]
     },
     "execution_count": 3,
     "metadata": {},
     "output_type": "execute_result"
    }
   ],
   "source": [
    "# List for holding lat_lngs and cities\n",
    "lat_lngs = []\n",
    "cities = []\n",
    "\n",
    "# Create a set of random lat and lng combinations\n",
    "lats = np.random.uniform(lat_range[0], lat_range[1], size=1500)\n",
    "lngs = np.random.uniform(lng_range[0], lng_range[1], size=1500)\n",
    "lat_lngs = zip(lats, lngs)\n",
    "\n",
    "# Identify nearest city for each lat, lng combination\n",
    "for lat_lng in lat_lngs:\n",
    "    city = citipy.nearest_city(lat_lng[0], lat_lng[1]).city_name\n",
    "    \n",
    "    # If the city is unique, then add it to a our cities list\n",
    "    if city not in cities:\n",
    "        cities.append(city)\n",
    "\n",
    "# Print the city count to confirm sufficient count\n",
    "len(cities)"
   ]
  },
  {
   "cell_type": "markdown",
   "metadata": {},
   "source": [
    "### Perform API Calls\n",
    "* Perform a weather check on each city using a series of successive API calls.\n",
    "* Include a print log of each city as it'sbeing processed (with the city number and city name).\n"
   ]
  },
  {
   "cell_type": "code",
   "execution_count": 9,
   "metadata": {
    "scrolled": true
   },
   "outputs": [
    {
     "name": "stdout",
     "output_type": "stream",
     "text": [
      "Beginning Data Retrieval\n",
      "-----------------------------\n",
      "Processing Record 1 of 612 | albany\n",
      "Processing Record 1 of 612 | provideniya\n",
      "Processing Record 1 of 612 | bowen\n",
      "Processing Record 1 of 612 | khatanga\n",
      "Processing Record 1 of 612 | rikitea\n",
      "Processing Record 1 of 612 | attawapiskat\n",
      "attawapiskat city not found. Skipping...\n",
      "Processing Record 2 of 612 | camacha\n",
      "Processing Record 2 of 612 | kapaa\n",
      "Processing Record 2 of 612 | port elizabeth\n",
      "Processing Record 2 of 612 | mataura\n",
      "Processing Record 2 of 612 | mamakan\n",
      "Processing Record 2 of 612 | port alfred\n",
      "Processing Record 2 of 612 | nanortalik\n",
      "Processing Record 2 of 612 | vila velha\n",
      "Processing Record 2 of 612 | cape town\n",
      "Processing Record 2 of 612 | busselton\n",
      "Processing Record 2 of 612 | sisimiut\n",
      "Processing Record 2 of 612 | abha\n",
      "Processing Record 2 of 612 | bathsheba\n",
      "Processing Record 2 of 612 | hilo\n",
      "Processing Record 2 of 612 | bemidji\n",
      "Processing Record 2 of 612 | carnarvon\n",
      "Processing Record 2 of 612 | hithadhoo\n",
      "Processing Record 2 of 612 | kruisfontein\n",
      "Processing Record 2 of 612 | beringovskiy\n",
      "Processing Record 2 of 612 | san jeronimo\n",
      "Processing Record 2 of 612 | tsihombe\n",
      "tsihombe city not found. Skipping...\n",
      "Processing Record 3 of 612 | ballina\n",
      "Processing Record 3 of 612 | jamestown\n",
      "Processing Record 3 of 612 | butaritari\n",
      "Processing Record 3 of 612 | katobu\n",
      "Processing Record 3 of 612 | leshan\n",
      "Processing Record 3 of 612 | souillac\n",
      "Processing Record 3 of 612 | xiongshi\n",
      "xiongshi city not found. Skipping...\n",
      "Processing Record 4 of 612 | atuona\n",
      "Processing Record 4 of 612 | ottweiler\n",
      "Processing Record 4 of 612 | punta arenas\n",
      "Processing Record 4 of 612 | san carlos de bariloche\n",
      "Processing Record 4 of 612 | east london\n",
      "Processing Record 4 of 612 | new norfolk\n",
      "Processing Record 4 of 612 | kodiak\n",
      "Processing Record 4 of 612 | manokwari\n",
      "Processing Record 4 of 612 | airai\n",
      "Processing Record 4 of 612 | nelson bay\n",
      "Processing Record 4 of 612 | tiksi\n",
      "Processing Record 4 of 612 | rong kwang\n",
      "Processing Record 4 of 612 | madang\n",
      "Processing Record 4 of 612 | dunedin\n",
      "Processing Record 4 of 612 | chulym\n",
      "Processing Record 4 of 612 | puerto ayora\n",
      "Processing Record 4 of 612 | vaini\n",
      "Processing Record 4 of 612 | palabuhanratu\n",
      "palabuhanratu city not found. Skipping...\n",
      "Processing Record 5 of 612 | longyearbyen\n",
      "Processing Record 5 of 612 | qaanaaq\n",
      "Processing Record 5 of 612 | ushuaia\n",
      "Processing Record 5 of 612 | quatre cocos\n",
      "Processing Record 5 of 612 | gijon\n",
      "Processing Record 5 of 612 | katsuura\n",
      "Processing Record 5 of 612 | te anau\n",
      "Processing Record 5 of 612 | malartic\n",
      "Processing Record 5 of 612 | touros\n",
      "Processing Record 5 of 612 | narsaq\n",
      "Processing Record 5 of 612 | vardo\n",
      "Processing Record 5 of 612 | winfield\n",
      "Processing Record 5 of 612 | mahebourg\n",
      "Processing Record 5 of 612 | saint-philippe\n",
      "Processing Record 5 of 612 | pevek\n",
      "Processing Record 5 of 612 | grindavik\n",
      "Processing Record 5 of 612 | mount isa\n",
      "Processing Record 5 of 612 | sentyabrskiy\n",
      "sentyabrskiy city not found. Skipping...\n",
      "Processing Record 6 of 612 | chokurdakh\n",
      "Processing Record 6 of 612 | bluff\n",
      "Processing Record 6 of 612 | hermanus\n",
      "Processing Record 6 of 612 | upernavik\n",
      "Processing Record 6 of 612 | cabo san lucas\n",
      "Processing Record 6 of 612 | bilibino\n",
      "Processing Record 6 of 612 | vostok\n",
      "Processing Record 6 of 612 | sataua\n",
      "sataua city not found. Skipping...\n",
      "Processing Record 7 of 612 | itarema\n",
      "Processing Record 7 of 612 | isangel\n",
      "Processing Record 7 of 612 | talnakh\n",
      "Processing Record 7 of 612 | fuengirola\n",
      "Processing Record 7 of 612 | nikolskoye\n",
      "Processing Record 7 of 612 | lagoa\n",
      "Processing Record 7 of 612 | avera\n",
      "Processing Record 7 of 612 | tuktoyaktuk\n",
      "Processing Record 7 of 612 | liptovsky mikulas\n",
      "Processing Record 7 of 612 | avarua\n",
      "Processing Record 7 of 612 | tasiilaq\n",
      "Processing Record 7 of 612 | mar del plata\n",
      "Processing Record 7 of 612 | leh\n",
      "Processing Record 7 of 612 | ribeira grande\n",
      "Processing Record 7 of 612 | cherskiy\n",
      "Processing Record 7 of 612 | konakovo\n",
      "Processing Record 7 of 612 | kavieng\n",
      "Processing Record 7 of 612 | timizart\n",
      "Processing Record 7 of 612 | san cristobal\n",
      "Processing Record 7 of 612 | zhangye\n",
      "Processing Record 7 of 612 | pingliang\n",
      "Processing Record 7 of 612 | lamar\n",
      "Processing Record 7 of 612 | cidreira\n",
      "Processing Record 7 of 612 | palmer\n",
      "Processing Record 7 of 612 | lebu\n",
      "Processing Record 7 of 612 | rabo de peixe\n",
      "Processing Record 7 of 612 | acapulco\n",
      "Processing Record 7 of 612 | lompoc\n",
      "Processing Record 7 of 612 | manthani\n",
      "Processing Record 7 of 612 | saldanha\n",
      "Processing Record 7 of 612 | gigmoto\n",
      "Processing Record 7 of 612 | buala\n",
      "Processing Record 7 of 612 | dawlatabad\n",
      "Processing Record 7 of 612 | bredasdorp\n",
      "Processing Record 7 of 612 | hornepayne\n",
      "Processing Record 7 of 612 | belushya guba\n",
      "belushya guba city not found. Skipping...\n",
      "Processing Record 8 of 612 | alekseyevsk\n",
      "Processing Record 8 of 612 | ilulissat\n",
      "Processing Record 8 of 612 | whitehorse\n",
      "Processing Record 8 of 612 | taolanaro\n",
      "taolanaro city not found. Skipping...\n",
      "Processing Record 9 of 612 | kasongo-lunda\n",
      "Processing Record 9 of 612 | bethel\n",
      "Processing Record 9 of 612 | escanaba\n",
      "Processing Record 9 of 612 | praia\n",
      "Processing Record 9 of 612 | maragogi\n",
      "Processing Record 9 of 612 | mys shmidta\n",
      "mys shmidta city not found. Skipping...\n",
      "Processing Record 10 of 612 | ferrol\n",
      "Processing Record 10 of 612 | aswan\n",
      "Processing Record 10 of 612 | rio gallegos\n",
      "Processing Record 10 of 612 | buckeye\n",
      "Processing Record 10 of 612 | kuytun\n",
      "Processing Record 10 of 612 | nouadhibou\n",
      "Processing Record 10 of 612 | barrow\n",
      "Processing Record 10 of 612 | los llanos de aridane\n",
      "Processing Record 10 of 612 | leland\n",
      "Processing Record 10 of 612 | illoqqortoormiut\n",
      "illoqqortoormiut city not found. Skipping...\n",
      "Processing Record 11 of 612 | alyangula\n",
      "Processing Record 11 of 612 | shubarshi\n",
      "Processing Record 11 of 612 | lang son\n",
      "Processing Record 11 of 612 | grants\n",
      "Processing Record 11 of 612 | berlevag\n",
      "Processing Record 11 of 612 | saint george\n",
      "Processing Record 11 of 612 | hinton\n",
      "Processing Record 11 of 612 | hobart\n",
      "Processing Record 11 of 612 | sobolevo\n",
      "Processing Record 11 of 612 | san patricio\n",
      "Processing Record 11 of 612 | vaitupu\n",
      "vaitupu city not found. Skipping...\n",
      "Processing Record 12 of 612 | yerofey pavlovich\n",
      "Processing Record 12 of 612 | hasaki\n",
      "Processing Record 12 of 612 | castro\n",
      "Processing Record 12 of 612 | salvacion\n",
      "Processing Record 12 of 612 | bandarbeyla\n",
      "Processing Record 12 of 612 | manta\n",
      "Processing Record 12 of 612 | phumi samraong\n",
      "phumi samraong city not found. Skipping...\n",
      "Processing Record 13 of 612 | taksimo\n",
      "Processing Record 13 of 612 | codrington\n",
      "Processing Record 13 of 612 | do rud\n",
      "do rud city not found. Skipping...\n",
      "Processing Record 14 of 612 | bengkulu\n",
      "Processing Record 14 of 612 | bolnisi\n",
      "Processing Record 14 of 612 | agua branca\n",
      "Processing Record 14 of 612 | general roca\n",
      "Processing Record 14 of 612 | shieli\n",
      "Processing Record 14 of 612 | cumaribo\n",
      "cumaribo city not found. Skipping...\n",
      "Processing Record 15 of 612 | augustow\n",
      "Processing Record 15 of 612 | geraldton\n",
      "Processing Record 15 of 612 | caravelas\n",
      "Processing Record 15 of 612 | blagoyevo\n",
      "Processing Record 15 of 612 | comodoro rivadavia\n",
      "Processing Record 15 of 612 | shelburne\n",
      "Processing Record 15 of 612 | channel-port aux basques\n",
      "Processing Record 15 of 612 | ayagoz\n",
      "Processing Record 15 of 612 | ryotsu\n",
      "Processing Record 15 of 612 | tessalit\n",
      "Processing Record 15 of 612 | labuhan\n",
      "Processing Record 15 of 612 | georgetown\n",
      "Processing Record 15 of 612 | okha\n",
      "Processing Record 15 of 612 | chuy\n",
      "Processing Record 15 of 612 | coahuayana\n",
      "Processing Record 15 of 612 | azimur\n",
      "azimur city not found. Skipping...\n",
      "Processing Record 16 of 612 | korla\n",
      "Processing Record 16 of 612 | vao\n",
      "Processing Record 16 of 612 | baruun-urt\n",
      "Processing Record 16 of 612 | kailua\n",
      "Processing Record 16 of 612 | gaziantep\n",
      "Processing Record 16 of 612 | pokrovsk-uralskiy\n",
      "pokrovsk-uralskiy city not found. Skipping...\n",
      "Processing Record 17 of 612 | tuatapere\n",
      "Processing Record 17 of 612 | wattegama\n",
      "Processing Record 17 of 612 | norman wells\n",
      "Processing Record 17 of 612 | shimoda\n",
      "Processing Record 17 of 612 | nacogdoches\n",
      "Processing Record 17 of 612 | severo-kurilsk\n",
      "Processing Record 17 of 612 | hami\n",
      "Processing Record 17 of 612 | mandal\n",
      "Processing Record 17 of 612 | usinsk\n",
      "Processing Record 17 of 612 | klaksvik\n",
      "Processing Record 17 of 612 | inzer\n"
     ]
    },
    {
     "name": "stdout",
     "output_type": "stream",
     "text": [
      "Processing Record 17 of 612 | faanui\n",
      "Processing Record 17 of 612 | sierpc\n",
      "Processing Record 17 of 612 | navalmoral de la mata\n",
      "Processing Record 17 of 612 | jayanca\n",
      "Processing Record 17 of 612 | roald\n",
      "Processing Record 17 of 612 | tilichiki\n",
      "Processing Record 17 of 612 | scottsburgh\n",
      "scottsburgh city not found. Skipping...\n",
      "Processing Record 18 of 612 | sapao\n",
      "sapao city not found. Skipping...\n",
      "Processing Record 19 of 612 | balakliya\n",
      "Processing Record 19 of 612 | lubao\n",
      "Processing Record 19 of 612 | ibia\n",
      "Processing Record 19 of 612 | namibe\n",
      "Processing Record 19 of 612 | coquimbo\n",
      "Processing Record 19 of 612 | clyde river\n",
      "Processing Record 19 of 612 | port lincoln\n",
      "Processing Record 19 of 612 | boda\n",
      "Processing Record 19 of 612 | kaitangata\n",
      "Processing Record 19 of 612 | utiroa\n",
      "utiroa city not found. Skipping...\n",
      "Processing Record 20 of 612 | umzimvubu\n",
      "umzimvubu city not found. Skipping...\n",
      "Processing Record 21 of 612 | nuuk\n",
      "Processing Record 21 of 612 | rocha\n",
      "Processing Record 21 of 612 | samusu\n",
      "samusu city not found. Skipping...\n",
      "Processing Record 22 of 612 | alofi\n",
      "Processing Record 22 of 612 | wakkanai\n",
      "Processing Record 22 of 612 | bambous virieux\n",
      "Processing Record 22 of 612 | naryan-mar\n",
      "Processing Record 22 of 612 | nokaneng\n",
      "Processing Record 22 of 612 | imeni poliny osipenko\n",
      "Processing Record 22 of 612 | cukai\n",
      "Processing Record 22 of 612 | sault sainte marie\n",
      "Processing Record 22 of 612 | beihai\n",
      "Processing Record 22 of 612 | salalah\n",
      "Processing Record 22 of 612 | torbay\n",
      "Processing Record 22 of 612 | leningradskiy\n",
      "Processing Record 22 of 612 | saskylakh\n",
      "Processing Record 22 of 612 | paamiut\n",
      "Processing Record 22 of 612 | ancud\n",
      "Processing Record 22 of 612 | thompson\n",
      "Processing Record 22 of 612 | syasstroy\n",
      "Processing Record 22 of 612 | sangar\n",
      "Processing Record 22 of 612 | esso\n",
      "Processing Record 22 of 612 | port-gentil\n",
      "Processing Record 22 of 612 | kita\n",
      "Processing Record 22 of 612 | jaciara\n",
      "Processing Record 22 of 612 | trairi\n",
      "Processing Record 22 of 612 | henties bay\n",
      "Processing Record 22 of 612 | baykalsk\n",
      "Processing Record 22 of 612 | baykit\n",
      "Processing Record 22 of 612 | teya\n",
      "Processing Record 22 of 612 | richards bay\n",
      "Processing Record 22 of 612 | olafsvik\n",
      "Processing Record 22 of 612 | zvishavane\n",
      "Processing Record 22 of 612 | denpasar\n",
      "Processing Record 22 of 612 | moses lake\n",
      "Processing Record 22 of 612 | daru\n",
      "Processing Record 22 of 612 | iqaluit\n",
      "Processing Record 22 of 612 | cabadiangan\n",
      "Processing Record 22 of 612 | tromso\n",
      "Processing Record 22 of 612 | cap-aux-meules\n",
      "Processing Record 22 of 612 | krasnoselkup\n",
      "Processing Record 22 of 612 | srednekolymsk\n",
      "Processing Record 22 of 612 | kirakira\n",
      "Processing Record 22 of 612 | ajdabiya\n",
      "Processing Record 22 of 612 | sitka\n",
      "Processing Record 22 of 612 | asau\n",
      "Processing Record 22 of 612 | anadyr\n",
      "Processing Record 22 of 612 | filadelfia\n",
      "Processing Record 22 of 612 | poronaysk\n",
      "Processing Record 22 of 612 | rio grande\n",
      "Processing Record 22 of 612 | aykhal\n",
      "Processing Record 22 of 612 | tanout\n",
      "Processing Record 22 of 612 | keti bandar\n",
      "Processing Record 22 of 612 | gushikawa\n",
      "Processing Record 22 of 612 | dhidhdhoo\n",
      "Processing Record 22 of 612 | butembo\n",
      "Processing Record 22 of 612 | vaitape\n",
      "Processing Record 22 of 612 | grand river south east\n",
      "grand river south east city not found. Skipping...\n",
      "Processing Record 23 of 612 | miri\n",
      "Processing Record 23 of 612 | yellowknife\n",
      "Processing Record 23 of 612 | gopalpur\n",
      "Processing Record 23 of 612 | wanning\n",
      "Processing Record 23 of 612 | dolores\n",
      "Processing Record 23 of 612 | digha\n",
      "Processing Record 23 of 612 | lorengau\n",
      "Processing Record 23 of 612 | balad\n",
      "Processing Record 23 of 612 | porto walter\n",
      "Processing Record 23 of 612 | oyonnax\n",
      "Processing Record 23 of 612 | flin flon\n",
      "Processing Record 23 of 612 | fairbanks\n",
      "Processing Record 23 of 612 | kuche\n",
      "kuche city not found. Skipping...\n",
      "Processing Record 24 of 612 | molteno\n",
      "Processing Record 24 of 612 | townsville\n",
      "Processing Record 24 of 612 | marzuq\n",
      "Processing Record 24 of 612 | marrakesh\n",
      "Processing Record 24 of 612 | carauari\n",
      "Processing Record 24 of 612 | inhambane\n",
      "Processing Record 24 of 612 | burica\n",
      "burica city not found. Skipping...\n",
      "Processing Record 25 of 612 | kaoma\n",
      "Processing Record 25 of 612 | mount gambier\n",
      "Processing Record 25 of 612 | russell\n",
      "Processing Record 25 of 612 | boyolangu\n",
      "Processing Record 25 of 612 | kovernino\n",
      "Processing Record 25 of 612 | athol\n",
      "Processing Record 25 of 612 | pisco\n",
      "Processing Record 25 of 612 | burshtyn\n",
      "Processing Record 25 of 612 | ponta do sol\n",
      "Processing Record 25 of 612 | dikson\n",
      "Processing Record 25 of 612 | arraial do cabo\n",
      "Processing Record 25 of 612 | calderitas\n",
      "Processing Record 25 of 612 | muros\n",
      "Processing Record 25 of 612 | louis trichardt\n",
      "Processing Record 25 of 612 | barentsburg\n",
      "barentsburg city not found. Skipping...\n",
      "Processing Record 26 of 612 | yanam\n",
      "Processing Record 26 of 612 | gamba\n",
      "Processing Record 26 of 612 | fukumitsu\n",
      "Processing Record 26 of 612 | olkhovatka\n",
      "Processing Record 26 of 612 | guerrero negro\n",
      "Processing Record 26 of 612 | saint-georges\n",
      "Processing Record 26 of 612 | calvinia\n",
      "Processing Record 26 of 612 | fortuna\n",
      "Processing Record 26 of 612 | kiunga\n",
      "Processing Record 26 of 612 | jinxiang\n",
      "Processing Record 26 of 612 | hammerfest\n",
      "Processing Record 26 of 612 | zapresic\n",
      "Processing Record 26 of 612 | la sarre\n",
      "Processing Record 26 of 612 | marawi\n",
      "Processing Record 26 of 612 | halifax\n",
      "Processing Record 26 of 612 | kholtoson\n",
      "Processing Record 26 of 612 | barra do corda\n",
      "Processing Record 26 of 612 | arman\n",
      "Processing Record 26 of 612 | katsiveli\n",
      "katsiveli city not found. Skipping...\n",
      "Processing Record 27 of 612 | santa maria del oro\n",
      "Processing Record 27 of 612 | puerto madryn\n",
      "Processing Record 27 of 612 | namatanai\n",
      "Processing Record 27 of 612 | beyneu\n",
      "Processing Record 27 of 612 | tonekabon\n",
      "Processing Record 27 of 612 | harrison\n",
      "Processing Record 27 of 612 | amderma\n",
      "amderma city not found. Skipping...\n",
      "Processing Record 28 of 612 | hofn\n",
      "Processing Record 28 of 612 | kurumkan\n",
      "Processing Record 28 of 612 | petropavlovsk-kamchatskiy\n",
      "Processing Record 28 of 612 | watertown\n",
      "Processing Record 28 of 612 | tokonou\n",
      "Processing Record 28 of 612 | ahipara\n",
      "Processing Record 28 of 612 | plouzane\n",
      "Processing Record 28 of 612 | puerto del rosario\n",
      "Processing Record 28 of 612 | pacific grove\n",
      "Processing Record 28 of 612 | mlimba\n",
      "Processing Record 28 of 612 | young\n",
      "Processing Record 28 of 612 | mehamn\n",
      "Processing Record 28 of 612 | honningsvag\n",
      "Processing Record 28 of 612 | conakry\n",
      "Processing Record 28 of 612 | gomel\n",
      "Processing Record 28 of 612 | zaraza\n",
      "Processing Record 28 of 612 | half moon bay\n",
      "Processing Record 28 of 612 | birjand\n",
      "Processing Record 28 of 612 | kavaratti\n",
      "Processing Record 28 of 612 | san quintin\n",
      "Processing Record 28 of 612 | stawell\n",
      "Processing Record 28 of 612 | conceicao do coite\n",
      "Processing Record 28 of 612 | pangoa\n",
      "Processing Record 28 of 612 | guajara-mirim\n",
      "guajara-mirim city not found. Skipping...\n",
      "Processing Record 29 of 612 | rodeo\n",
      "Processing Record 29 of 612 | buraydah\n",
      "Processing Record 29 of 612 | olga\n",
      "Processing Record 29 of 612 | ruatoria\n",
      "ruatoria city not found. Skipping...\n",
      "Processing Record 30 of 612 | soyo\n",
      "Processing Record 30 of 612 | jieshi\n",
      "Processing Record 30 of 612 | vila franca do campo\n",
      "Processing Record 30 of 612 | esperance\n",
      "Processing Record 30 of 612 | coihaique\n",
      "Processing Record 30 of 612 | phan rang\n",
      "phan rang city not found. Skipping...\n",
      "Processing Record 31 of 612 | maceio\n",
      "Processing Record 31 of 612 | chicama\n",
      "Processing Record 31 of 612 | biak\n",
      "Processing Record 31 of 612 | cayenne\n",
      "Processing Record 31 of 612 | beloha\n",
      "Processing Record 31 of 612 | hirara\n",
      "Processing Record 31 of 612 | kununurra\n",
      "Processing Record 31 of 612 | mindelo\n",
      "Processing Record 31 of 612 | quzhou\n",
      "Processing Record 31 of 612 | komsomolskiy\n",
      "Processing Record 31 of 612 | gamagori\n",
      "Processing Record 31 of 612 | elko\n",
      "Processing Record 31 of 612 | albury\n",
      "Processing Record 31 of 612 | talas\n",
      "Processing Record 31 of 612 | waipawa\n",
      "Processing Record 31 of 612 | kenora\n",
      "Processing Record 31 of 612 | verkhnyaya inta\n",
      "Processing Record 31 of 612 | aloleng\n",
      "Processing Record 31 of 612 | macamic\n",
      "Processing Record 31 of 612 | hamilton\n",
      "Processing Record 31 of 612 | kahului\n",
      "Processing Record 31 of 612 | carutapera\n",
      "Processing Record 31 of 612 | arraias\n",
      "Processing Record 31 of 612 | elat\n"
     ]
    },
    {
     "name": "stdout",
     "output_type": "stream",
     "text": [
      "Processing Record 31 of 612 | khromtau\n",
      "Processing Record 31 of 612 | tocopilla\n",
      "Processing Record 31 of 612 | pangody\n",
      "Processing Record 31 of 612 | soubre\n",
      "Processing Record 31 of 612 | bloomfield\n",
      "Processing Record 31 of 612 | dickinson\n",
      "Processing Record 31 of 612 | pokhara\n",
      "Processing Record 31 of 612 | labutta\n",
      "labutta city not found. Skipping...\n",
      "Processing Record 32 of 612 | port macquarie\n",
      "Processing Record 32 of 612 | suez\n",
      "Processing Record 32 of 612 | tabiauea\n",
      "tabiauea city not found. Skipping...\n",
      "Processing Record 33 of 612 | chiungutwa\n",
      "Processing Record 33 of 612 | suntar\n",
      "Processing Record 33 of 612 | yirol\n",
      "yirol city not found. Skipping...\n",
      "Processing Record 34 of 612 | atikokan\n",
      "Processing Record 34 of 612 | kapit\n",
      "Processing Record 34 of 612 | qasigiannguit\n",
      "Processing Record 34 of 612 | conceicao da barra\n",
      "Processing Record 34 of 612 | hohhot\n",
      "Processing Record 34 of 612 | veraval\n",
      "Processing Record 34 of 612 | illapel\n",
      "Processing Record 34 of 612 | popondetta\n",
      "Processing Record 34 of 612 | galich\n",
      "Processing Record 34 of 612 | egvekinot\n",
      "Processing Record 34 of 612 | novikovo\n",
      "Processing Record 34 of 612 | padang\n",
      "Processing Record 34 of 612 | ishigaki\n",
      "Processing Record 34 of 612 | polson\n",
      "Processing Record 34 of 612 | baie-saint-paul\n",
      "Processing Record 34 of 612 | lavrentiya\n",
      "Processing Record 34 of 612 | turka\n",
      "Processing Record 34 of 612 | saleaula\n",
      "saleaula city not found. Skipping...\n",
      "Processing Record 35 of 612 | hambantota\n",
      "Processing Record 35 of 612 | babanusah\n",
      "babanusah city not found. Skipping...\n",
      "Processing Record 36 of 612 | haines junction\n",
      "Processing Record 36 of 612 | auki\n",
      "Processing Record 36 of 612 | ponta delgada\n",
      "Processing Record 36 of 612 | kerema\n",
      "Processing Record 36 of 612 | flinders\n",
      "Processing Record 36 of 612 | manbij\n",
      "Processing Record 36 of 612 | port hardy\n",
      "Processing Record 36 of 612 | sioux lookout\n",
      "Processing Record 36 of 612 | gorno-chuyskiy\n",
      "gorno-chuyskiy city not found. Skipping...\n",
      "Processing Record 37 of 612 | faya\n",
      "Processing Record 37 of 612 | abu zabad\n",
      "Processing Record 37 of 612 | urusha\n",
      "Processing Record 37 of 612 | portland\n",
      "Processing Record 37 of 612 | suileng\n",
      "Processing Record 37 of 612 | mancio lima\n",
      "Processing Record 37 of 612 | porto belo\n",
      "Processing Record 37 of 612 | asind\n",
      "Processing Record 37 of 612 | atambua\n",
      "Processing Record 37 of 612 | jiexiu\n",
      "Processing Record 37 of 612 | mnogovershinnyy\n",
      "Processing Record 37 of 612 | sinnamary\n",
      "Processing Record 37 of 612 | xining\n",
      "Processing Record 37 of 612 | port blair\n",
      "Processing Record 37 of 612 | tando jam\n",
      "Processing Record 37 of 612 | waddan\n",
      "Processing Record 37 of 612 | sibolga\n",
      "Processing Record 37 of 612 | huambo\n",
      "Processing Record 37 of 612 | kampong thum\n",
      "Processing Record 37 of 612 | zyryanka\n",
      "Processing Record 37 of 612 | ostrovnoy\n",
      "Processing Record 37 of 612 | harper\n",
      "Processing Record 37 of 612 | hovd\n",
      "Processing Record 37 of 612 | bachaquero\n",
      "Processing Record 37 of 612 | boromo\n",
      "Processing Record 37 of 612 | siderno\n",
      "Processing Record 37 of 612 | san jose\n",
      "Processing Record 37 of 612 | sistranda\n",
      "Processing Record 37 of 612 | eenhana\n",
      "Processing Record 37 of 612 | general jose eduvigis diaz\n",
      "Processing Record 37 of 612 | sikasso\n",
      "Processing Record 37 of 612 | lima\n",
      "Processing Record 37 of 612 | la ronge\n",
      "Processing Record 37 of 612 | louisbourg\n",
      "louisbourg city not found. Skipping...\n",
      "Processing Record 38 of 612 | moyale\n",
      "Processing Record 38 of 612 | kerteh\n",
      "kerteh city not found. Skipping...\n",
      "Processing Record 39 of 612 | harsin\n",
      "Processing Record 39 of 612 | constitucion\n",
      "Processing Record 39 of 612 | normandin\n",
      "Processing Record 39 of 612 | aracruz\n",
      "Processing Record 39 of 612 | sao filipe\n",
      "Processing Record 39 of 612 | dinsor\n",
      "dinsor city not found. Skipping...\n",
      "Processing Record 40 of 612 | kampot\n",
      "Processing Record 40 of 612 | nizhneyansk\n",
      "nizhneyansk city not found. Skipping...\n",
      "Processing Record 41 of 612 | karratha\n",
      "Processing Record 41 of 612 | kharp\n",
      "Processing Record 41 of 612 | strohonivka\n",
      "Processing Record 41 of 612 | cristinesti\n",
      "Processing Record 41 of 612 | luderitz\n",
      "Processing Record 41 of 612 | almaznyy\n",
      "Processing Record 41 of 612 | okhotsk\n",
      "Processing Record 41 of 612 | oksfjord\n",
      "Processing Record 41 of 612 | sorgun\n",
      "Processing Record 41 of 612 | kartuzy\n",
      "Processing Record 41 of 612 | mombasa\n",
      "Processing Record 41 of 612 | sao francisco do sul\n",
      "Processing Record 41 of 612 | khristoforovo\n",
      "khristoforovo city not found. Skipping...\n",
      "Processing Record 42 of 612 | southbridge\n",
      "Processing Record 42 of 612 | kidal\n",
      "Processing Record 42 of 612 | puerto escondido\n",
      "Processing Record 42 of 612 | saint-pierre\n",
      "Processing Record 42 of 612 | esmeraldas\n",
      "Processing Record 42 of 612 | banyliv\n",
      "Processing Record 42 of 612 | brae\n",
      "Processing Record 42 of 612 | yanai\n",
      "Processing Record 42 of 612 | baoro\n",
      "Processing Record 42 of 612 | kozan\n",
      "Processing Record 42 of 612 | dubenskiy\n",
      "dubenskiy city not found. Skipping...\n",
      "Processing Record 43 of 612 | mecca\n",
      "Processing Record 43 of 612 | san alberto\n",
      "Processing Record 43 of 612 | khash\n",
      "Processing Record 43 of 612 | ngunguru\n",
      "Processing Record 43 of 612 | ormara\n",
      "Processing Record 43 of 612 | hanyang\n",
      "Processing Record 43 of 612 | jabiru\n",
      "jabiru city not found. Skipping...\n",
      "Processing Record 44 of 612 | sunamganj\n",
      "sunamganj city not found. Skipping...\n",
      "Processing Record 45 of 612 | yelbarga\n",
      "Processing Record 45 of 612 | nantucket\n",
      "Processing Record 45 of 612 | kalat\n",
      "Processing Record 45 of 612 | gilleleje\n",
      "Processing Record 45 of 612 | erzin\n",
      "Processing Record 45 of 612 | lauterbach\n",
      "Processing Record 45 of 612 | taoudenni\n",
      "Processing Record 45 of 612 | hunza\n",
      "hunza city not found. Skipping...\n",
      "Processing Record 46 of 612 | jumla\n",
      "Processing Record 46 of 612 | jalu\n",
      "Processing Record 46 of 612 | talara\n",
      "Processing Record 46 of 612 | rawson\n",
      "Processing Record 46 of 612 | kondinskoye\n",
      "Processing Record 46 of 612 | kwakoa\n",
      "Processing Record 46 of 612 | marcona\n",
      "marcona city not found. Skipping...\n",
      "Processing Record 47 of 612 | olkhovka\n",
      "Processing Record 47 of 612 | nalut\n",
      "Processing Record 47 of 612 | altay\n",
      "Processing Record 47 of 612 | natal\n",
      "Processing Record 47 of 612 | eirunepe\n",
      "Processing Record 47 of 612 | salto\n",
      "Processing Record 47 of 612 | turayf\n",
      "Processing Record 47 of 612 | calama\n",
      "Processing Record 47 of 612 | ambulu\n",
      "Processing Record 47 of 612 | arusha\n",
      "Processing Record 47 of 612 | vizinga\n",
      "Processing Record 47 of 612 | ghatsila\n",
      "Processing Record 47 of 612 | oranjemund\n",
      "Processing Record 47 of 612 | mattawa\n",
      "Processing Record 47 of 612 | karpathos\n",
      "Processing Record 47 of 612 | udalguri\n",
      "Processing Record 47 of 612 | yulara\n",
      "Processing Record 47 of 612 | shetpe\n",
      "Processing Record 47 of 612 | nisia floresta\n",
      "Processing Record 47 of 612 | camopi\n",
      "Processing Record 47 of 612 | pedasi\n",
      "Processing Record 47 of 612 | kropotkin\n",
      "Processing Record 47 of 612 | naze\n",
      "Processing Record 47 of 612 | sibu\n",
      "Processing Record 47 of 612 | lata\n",
      "Processing Record 47 of 612 | awjilah\n",
      "Processing Record 47 of 612 | derzhavinsk\n",
      "Processing Record 47 of 612 | san policarpo\n",
      "Processing Record 47 of 612 | kang\n",
      "Processing Record 47 of 612 | le port\n",
      "Processing Record 47 of 612 | badarpur\n",
      "Processing Record 47 of 612 | labuan\n",
      "Processing Record 47 of 612 | grand centre\n",
      "grand centre city not found. Skipping...\n",
      "Processing Record 48 of 612 | sendafa\n",
      "Processing Record 48 of 612 | lensk\n",
      "Processing Record 48 of 612 | avrille\n",
      "Processing Record 48 of 612 | miyako\n",
      "Processing Record 48 of 612 | vershino-shakhtaminskiy\n",
      "Processing Record 48 of 612 | saint-joseph\n",
      "Processing Record 48 of 612 | bosaso\n",
      "Processing Record 48 of 612 | blonduos\n",
      "blonduos city not found. Skipping...\n",
      "Processing Record 49 of 612 | krasnyy kholm\n",
      "Processing Record 49 of 612 | elhovo\n",
      "Processing Record 49 of 612 | halalo\n",
      "halalo city not found. Skipping...\n",
      "Processing Record 50 of 612 | fort nelson\n",
      "Processing Record 50 of 612 | lucea\n",
      "Processing Record 50 of 612 | negombo\n",
      "Processing Record 50 of 612 | saint anthony\n",
      "Processing Record 50 of 612 | cabanas\n",
      "Processing Record 50 of 612 | homer\n",
      "Processing Record 50 of 612 | velventos\n",
      "Processing Record 50 of 612 | sampit\n",
      "Processing Record 50 of 612 | caloundra\n",
      "Processing Record 50 of 612 | boa vista\n",
      "Processing Record 50 of 612 | aginskoye\n",
      "Processing Record 50 of 612 | antalaha\n",
      "Processing Record 50 of 612 | isparta\n",
      "Processing Record 50 of 612 | alto vera\n",
      "alto vera city not found. Skipping...\n",
      "Processing Record 51 of 612 | tartagal\n"
     ]
    },
    {
     "name": "stdout",
     "output_type": "stream",
     "text": [
      "Processing Record 51 of 612 | macas\n",
      "Processing Record 51 of 612 | bolungarvik\n",
      "bolungarvik city not found. Skipping...\n",
      "Processing Record 52 of 612 | tabou\n",
      "Processing Record 52 of 612 | verkhnevilyuysk\n",
      "Processing Record 52 of 612 | mayumba\n",
      "Processing Record 52 of 612 | sandwick\n",
      "Processing Record 52 of 612 | nipawin\n",
      "Processing Record 52 of 612 | severnoye\n",
      "Processing Record 52 of 612 | moose factory\n",
      "Processing Record 52 of 612 | arco\n",
      "Processing Record 52 of 612 | superior\n",
      "Processing Record 52 of 612 | punta de piedra\n",
      "Processing Record 52 of 612 | paucartambo\n",
      "paucartambo city not found. Skipping...\n",
      "Processing Record 53 of 612 | borovskoy\n",
      "Processing Record 53 of 612 | grand gaube\n",
      "Processing Record 53 of 612 | tonj\n",
      "Processing Record 53 of 612 | higuey\n",
      "higuey city not found. Skipping...\n",
      "Processing Record 54 of 612 | viligili\n",
      "viligili city not found. Skipping...\n",
      "Processing Record 55 of 612 | cairns\n",
      "Processing Record 55 of 612 | taikang\n",
      "Processing Record 55 of 612 | batagay\n",
      "Processing Record 55 of 612 | svetlyy\n",
      "Processing Record 55 of 612 | port hawkesbury\n",
      "Processing Record 55 of 612 | matara\n",
      "Processing Record 55 of 612 | kholbon\n",
      "Processing Record 55 of 612 | valdivia\n",
      "Processing Record 55 of 612 | manacsac\n",
      "Processing Record 55 of 612 | golkoy\n",
      "Processing Record 55 of 612 | lerwick\n"
     ]
    }
   ],
   "source": [
    "url='http://api.openweathermap.org/data/2.5/weather?'\n",
    "units='imperial'\n",
    "city_url=f'{url}appid={weather_api_key}&units={units}&q='\n",
    "\n",
    "name=[]\n",
    "cloudiness=[]\n",
    "country=[]\n",
    "date=[]\n",
    "humidity=[]\n",
    "latitude=[]\n",
    "longitude=[]\n",
    "maxtemp=[]\n",
    "wind=[]\n",
    "count=1\n",
    "\n",
    "print('Beginning Data Retrieval')     \n",
    "print('-----------------------------')\n",
    "for city in cities:\n",
    "    response=requests.get(city_url + city).json()\n",
    "        \n",
    "    print('Processing Record ' + str(count) + ' of ' + str(len(cities)) + ' | ' + city)\n",
    "        \n",
    "    try:                                                # Ignore errors in response.\n",
    "        name.append(response['name'])\n",
    "        cloudiness.append(response['clouds']['all'])\n",
    "        country.append(response['sys']['country'])\n",
    "        date.append(response['dt'])\n",
    "        humidity.append(response['main']['humidity'])             \n",
    "        latitude.append(response['coord']['lat'])\n",
    "        longitude.append(response['coord']['lon'])             \n",
    "        maxtemp.append(response['main']['temp_max'])\n",
    "        wind.append(response['wind']['speed'])      \n",
    "    except KeyError:\n",
    "            \n",
    "            print(city + ' city not found. Skipping...') # In case one of the responses comes back with error \"KeyError\"\n",
    "                                                            # which could be the city or one of the data points missing.    \n",
    "            count=count+1"
   ]
  },
  {
   "cell_type": "markdown",
   "metadata": {},
   "source": [
    "### Convert Raw Data to DataFrame\n",
    "* Export the city data into a .csv.\n",
    "* Display the DataFrame"
   ]
  },
  {
   "cell_type": "code",
   "execution_count": 18,
   "metadata": {},
   "outputs": [
    {
     "data": {
      "text/html": [
       "<div>\n",
       "<style scoped>\n",
       "    .dataframe tbody tr th:only-of-type {\n",
       "        vertical-align: middle;\n",
       "    }\n",
       "\n",
       "    .dataframe tbody tr th {\n",
       "        vertical-align: top;\n",
       "    }\n",
       "\n",
       "    .dataframe thead th {\n",
       "        text-align: right;\n",
       "    }\n",
       "</style>\n",
       "<table border=\"1\" class=\"dataframe\">\n",
       "  <thead>\n",
       "    <tr style=\"text-align: right;\">\n",
       "      <th></th>\n",
       "      <th>City</th>\n",
       "      <th>Lat</th>\n",
       "      <th>Lng</th>\n",
       "      <th>Max Temp (F)</th>\n",
       "      <th>Humidity (%)</th>\n",
       "      <th>Cloudiness (%)</th>\n",
       "      <th>Wind Speed (mph)</th>\n",
       "      <th>Country</th>\n",
       "      <th>Date</th>\n",
       "    </tr>\n",
       "  </thead>\n",
       "  <tbody>\n",
       "    <tr>\n",
       "      <th>0</th>\n",
       "      <td>Albany</td>\n",
       "      <td>42.6001</td>\n",
       "      <td>-73.9662</td>\n",
       "      <td>53.37</td>\n",
       "      <td>46</td>\n",
       "      <td>5</td>\n",
       "      <td>1.01</td>\n",
       "      <td>US</td>\n",
       "      <td>1667866582</td>\n",
       "    </tr>\n",
       "    <tr>\n",
       "      <th>1</th>\n",
       "      <td>Provideniya</td>\n",
       "      <td>64.3833</td>\n",
       "      <td>-173.3000</td>\n",
       "      <td>32.11</td>\n",
       "      <td>74</td>\n",
       "      <td>100</td>\n",
       "      <td>22.37</td>\n",
       "      <td>RU</td>\n",
       "      <td>1667866803</td>\n",
       "    </tr>\n",
       "    <tr>\n",
       "      <th>2</th>\n",
       "      <td>Bowen</td>\n",
       "      <td>-20.0167</td>\n",
       "      <td>148.2333</td>\n",
       "      <td>80.04</td>\n",
       "      <td>56</td>\n",
       "      <td>0</td>\n",
       "      <td>15.82</td>\n",
       "      <td>AU</td>\n",
       "      <td>1667866804</td>\n",
       "    </tr>\n",
       "    <tr>\n",
       "      <th>3</th>\n",
       "      <td>Khatanga</td>\n",
       "      <td>71.9667</td>\n",
       "      <td>102.5000</td>\n",
       "      <td>5.95</td>\n",
       "      <td>96</td>\n",
       "      <td>100</td>\n",
       "      <td>5.41</td>\n",
       "      <td>RU</td>\n",
       "      <td>1667866804</td>\n",
       "    </tr>\n",
       "    <tr>\n",
       "      <th>4</th>\n",
       "      <td>Rikitea</td>\n",
       "      <td>-23.1203</td>\n",
       "      <td>-134.9692</td>\n",
       "      <td>73.53</td>\n",
       "      <td>92</td>\n",
       "      <td>100</td>\n",
       "      <td>20.13</td>\n",
       "      <td>PF</td>\n",
       "      <td>1667866805</td>\n",
       "    </tr>\n",
       "  </tbody>\n",
       "</table>\n",
       "</div>"
      ],
      "text/plain": [
       "          City      Lat       Lng  Max Temp (F)  Humidity (%)  Cloudiness (%)  \\\n",
       "0       Albany  42.6001  -73.9662         53.37            46               5   \n",
       "1  Provideniya  64.3833 -173.3000         32.11            74             100   \n",
       "2        Bowen -20.0167  148.2333         80.04            56               0   \n",
       "3     Khatanga  71.9667  102.5000          5.95            96             100   \n",
       "4      Rikitea -23.1203 -134.9692         73.53            92             100   \n",
       "\n",
       "   Wind Speed (mph) Country        Date  \n",
       "0              1.01      US  1667866582  \n",
       "1             22.37      RU  1667866803  \n",
       "2             15.82      AU  1667866804  \n",
       "3              5.41      RU  1667866804  \n",
       "4             20.13      PF  1667866805  "
      ]
     },
     "execution_count": 18,
     "metadata": {},
     "output_type": "execute_result"
    }
   ],
   "source": [
    "columns_dict = {\n",
    "    'City': name,\n",
    "    'Lat': latitude,\n",
    "    'Lng': longitude,\n",
    "    'Max Temp (F)': maxtemp,\n",
    "    'Humidity (%)': humidity,\n",
    "    'Cloudiness (%)': cloudiness,\n",
    "    'Wind Speed (mph)': wind,\n",
    "    'Country': country,\n",
    "    'Date': date}\n",
    "weather_df=pd.DataFrame(columns_dict)\n",
    "weather_df.count()\n",
    "weather_df.to_csv(output_data_file, index=False)\n",
    "weather_df.head()"
   ]
  },
  {
   "cell_type": "markdown",
   "metadata": {},
   "source": [
    "## Plotting the Data\n",
    "* Use proper labeling of the plots using plot titles (including date of analysis) and axes labels.\n",
    "* Save the plotted figures as .pngs."
   ]
  },
  {
   "cell_type": "markdown",
   "metadata": {},
   "source": [
    "## Latitude vs. Temperature Plot"
   ]
  },
  {
   "cell_type": "code",
   "execution_count": 22,
   "metadata": {
    "scrolled": true
   },
   "outputs": [
    {
     "data": {
      "image/png": "[encoded data removed]",
      "text/plain": [
       "<Figure size 432x288 with 1 Axes>"
      ]
     },
     "metadata": {
      "needs_background": "light"
     },
     "output_type": "display_data"
    },
    {
     "data": {
      "text/plain": [
       "<Figure size 432x288 with 0 Axes>"
      ]
     },
     "metadata": {},
     "output_type": "display_data"
    }
   ],
   "source": [
    "x_axis = weather_df[\"Lat\"]\n",
    "y_axis = weather_df[\"Max Temp (F)\"]\n",
    "plt.scatter(x_axis, y_axis)\n",
    "\n",
    "plt.title(\"Max Temperature (F) vs. Latitude (2022-11-07)\")\n",
    "plt.xlabel(\"Latitude\")\n",
    "plt.ylabel(\"Max Temperature (F)\")\n",
    "plt.grid()\n",
    "plt.show()\n",
    "\n",
    "plt.savefig(\"../output_data/Fig1.png\")"
   ]
  },
  {
   "cell_type": "markdown",
   "metadata": {},
   "source": [
    "## Latitude vs. Humidity Plot"
   ]
  },
  {
   "cell_type": "code",
   "execution_count": 23,
   "metadata": {},
   "outputs": [
    {
     "data": {
      "image/png": "[encoded data removed]",
      "text/plain": [
       "<Figure size 432x288 with 1 Axes>"
      ]
     },
     "metadata": {
      "needs_background": "light"
     },
     "output_type": "display_data"
    },
    {
     "data": {
      "text/plain": [
       "<Figure size 432x288 with 0 Axes>"
      ]
     },
     "metadata": {},
     "output_type": "display_data"
    }
   ],
   "source": [
    "x_axis = weather_df[\"Lat\"]\n",
    "y_axis = weather_df[\"Humidity (%)\"]\n",
    "plt.scatter(x_axis, y_axis)\n",
    "\n",
    "plt.title(\"Humidity (%) vs. Latitude (2022-11-07)\")\n",
    "plt.xlabel(\"Latitude\")\n",
    "plt.ylabel(\"Humidity (%)\")\n",
    "plt.grid()\n",
    "plt.show()\n",
    "\n",
    "plt.savefig(\"../output_data/Fig2.png\")"
   ]
  },
  {
   "cell_type": "markdown",
   "metadata": {},
   "source": [
    "## Latitude vs. Cloudiness Plot"
   ]
  },
  {
   "cell_type": "code",
   "execution_count": 24,
   "metadata": {},
   "outputs": [
    {
     "data": {
      "image/png": "[encoded data removed]",
      "text/plain": [
       "<Figure size 432x288 with 1 Axes>"
      ]
     },
     "metadata": {
      "needs_background": "light"
     },
     "output_type": "display_data"
    },
    {
     "data": {
      "text/plain": [
       "<Figure size 432x288 with 0 Axes>"
      ]
     },
     "metadata": {},
     "output_type": "display_data"
    }
   ],
   "source": [
    "x_axis = weather_df[\"Lat\"]\n",
    "y_axis = weather_df[\"Cloudiness (%)\"]\n",
    "plt.scatter(x_axis, y_axis)\n",
    "\n",
    "plt.title(\"Cloudiness (%) vs. Latitude (2022-11-07)\")\n",
    "plt.xlabel(\"Latitude\")\n",
    "plt.ylabel(\"Cloudiness (%)\")\n",
    "plt.grid()\n",
    "plt.show()\n",
    "\n",
    "plt.savefig(\"../output_data/Fig3.png\")"
   ]
  },
  {
   "cell_type": "markdown",
   "metadata": {},
   "source": [
    "## Latitude vs. Wind Speed Plot"
   ]
  },
  {
   "cell_type": "code",
   "execution_count": 25,
   "metadata": {},
   "outputs": [
    {
     "data": {
      "image/png": "[encoded data removed]",
      "text/plain": [
       "<Figure size 432x288 with 1 Axes>"
      ]
     },
     "metadata": {
      "needs_background": "light"
     },
     "output_type": "display_data"
    },
    {
     "data": {
      "text/plain": [
       "<Figure size 432x288 with 0 Axes>"
      ]
     },
     "metadata": {},
     "output_type": "display_data"
    }
   ],
   "source": [
    "x_axis = weather_df[\"Lat\"]\n",
    "y_axis = weather_df[\"Wind Speed (mph)\"]\n",
    "plt.scatter(x_axis, y_axis)\n",
    "\n",
    "plt.title(\"Wind Speed (mph) vs. Latitude (2022-11-07)\")\n",
    "plt.xlabel(\"Latitude\")\n",
    "plt.ylabel(\"Wind Speed (mph)\")\n",
    "plt.grid()\n",
    "plt.show()\n",
    "\n",
    "plt.savefig(\"../output_data/Fig4.png\")"
   ]
  },
  {
   "cell_type": "markdown",
   "metadata": {},
   "source": [
    "## Linear Regression"
   ]
  },
  {
   "cell_type": "code",
   "execution_count": 29,
   "metadata": {},
   "outputs": [
    {
     "data": {
      "text/html": [
       "<div>\n",
       "<style scoped>\n",
       "    .dataframe tbody tr th:only-of-type {\n",
       "        vertical-align: middle;\n",
       "    }\n",
       "\n",
       "    .dataframe tbody tr th {\n",
       "        vertical-align: top;\n",
       "    }\n",
       "\n",
       "    .dataframe thead th {\n",
       "        text-align: right;\n",
       "    }\n",
       "</style>\n",
       "<table border=\"1\" class=\"dataframe\">\n",
       "  <thead>\n",
       "    <tr style=\"text-align: right;\">\n",
       "      <th></th>\n",
       "      <th>City</th>\n",
       "      <th>Lat</th>\n",
       "      <th>Lng</th>\n",
       "      <th>Max Temp (F)</th>\n",
       "      <th>Humidity (%)</th>\n",
       "      <th>Cloudiness (%)</th>\n",
       "      <th>Wind Speed (mph)</th>\n",
       "      <th>Country</th>\n",
       "      <th>Date</th>\n",
       "    </tr>\n",
       "  </thead>\n",
       "  <tbody>\n",
       "    <tr>\n",
       "      <th>0</th>\n",
       "      <td>Albany</td>\n",
       "      <td>42.6001</td>\n",
       "      <td>-73.9662</td>\n",
       "      <td>53.37</td>\n",
       "      <td>46</td>\n",
       "      <td>5</td>\n",
       "      <td>1.01</td>\n",
       "      <td>US</td>\n",
       "      <td>1667866582</td>\n",
       "    </tr>\n",
       "    <tr>\n",
       "      <th>1</th>\n",
       "      <td>Provideniya</td>\n",
       "      <td>64.3833</td>\n",
       "      <td>-173.3000</td>\n",
       "      <td>32.11</td>\n",
       "      <td>74</td>\n",
       "      <td>100</td>\n",
       "      <td>22.37</td>\n",
       "      <td>RU</td>\n",
       "      <td>1667866803</td>\n",
       "    </tr>\n",
       "    <tr>\n",
       "      <th>3</th>\n",
       "      <td>Khatanga</td>\n",
       "      <td>71.9667</td>\n",
       "      <td>102.5000</td>\n",
       "      <td>5.95</td>\n",
       "      <td>96</td>\n",
       "      <td>100</td>\n",
       "      <td>5.41</td>\n",
       "      <td>RU</td>\n",
       "      <td>1667866804</td>\n",
       "    </tr>\n",
       "    <tr>\n",
       "      <th>5</th>\n",
       "      <td>Camacha</td>\n",
       "      <td>33.0833</td>\n",
       "      <td>-16.3333</td>\n",
       "      <td>62.02</td>\n",
       "      <td>100</td>\n",
       "      <td>20</td>\n",
       "      <td>2.30</td>\n",
       "      <td>PT</td>\n",
       "      <td>1667866805</td>\n",
       "    </tr>\n",
       "    <tr>\n",
       "      <th>6</th>\n",
       "      <td>Kapaa</td>\n",
       "      <td>22.0752</td>\n",
       "      <td>-159.3190</td>\n",
       "      <td>84.18</td>\n",
       "      <td>72</td>\n",
       "      <td>20</td>\n",
       "      <td>13.80</td>\n",
       "      <td>US</td>\n",
       "      <td>1667866806</td>\n",
       "    </tr>\n",
       "  </tbody>\n",
       "</table>\n",
       "</div>"
      ],
      "text/plain": [
       "          City      Lat       Lng  Max Temp (F)  Humidity (%)  Cloudiness (%)  \\\n",
       "0       Albany  42.6001  -73.9662         53.37            46               5   \n",
       "1  Provideniya  64.3833 -173.3000         32.11            74             100   \n",
       "3     Khatanga  71.9667  102.5000          5.95            96             100   \n",
       "5      Camacha  33.0833  -16.3333         62.02           100              20   \n",
       "6        Kapaa  22.0752 -159.3190         84.18            72              20   \n",
       "\n",
       "   Wind Speed (mph) Country        Date  \n",
       "0              1.01      US  1667866582  \n",
       "1             22.37      RU  1667866803  \n",
       "3              5.41      RU  1667866804  \n",
       "5              2.30      PT  1667866805  \n",
       "6             13.80      US  1667866806  "
      ]
     },
     "execution_count": 29,
     "metadata": {},
     "output_type": "execute_result"
    }
   ],
   "source": [
    "def Linear_Regression_Plots(x,y):\n",
    "    slope, intercept, r, p, stderr = linregress(x,y)\n",
    "\n",
    "    plt.plot(x, x * slope + intercept, color=\"r\")\n",
    "\n",
    "    line_eq = f\"y = {slope:.2f}x + {intercept:.2f}\"\n",
    "    plt.legend([line_eq], labelcolor='r')\n",
    "    print(f\"The r-value is: {r*r}\")\n",
    "\n",
    "weather_north = weather_df[weather_df['Lat'] >= 0]\n",
    "weather_south = weather_df[weather_df['Lat'] < 0]\n",
    "weather_north.head()\n",
    "#weather_south.head()\n"
   ]
  },
  {
   "cell_type": "markdown",
   "metadata": {},
   "source": [
    "####  Northern Hemisphere - Max Temp vs. Latitude Linear Regression"
   ]
  },
  {
   "cell_type": "code",
   "execution_count": 30,
   "metadata": {},
   "outputs": [
    {
     "name": "stdout",
     "output_type": "stream",
     "text": [
      "The r-value is: 0.7352110121300841\n"
     ]
    },
    {
     "data": {
      "image/png": "[encoded data removed]",
      "text/plain": [
       "<Figure size 432x288 with 1 Axes>"
      ]
     },
     "metadata": {
      "needs_background": "light"
     },
     "output_type": "display_data"
    }
   ],
   "source": [
    "x_axis = weather_north[\"Lat\"]\n",
    "y_axis = weather_north[\"Max Temp (F)\"]\n",
    "plt.scatter(x_axis, y_axis)\n",
    "Linear_Regression_Plots(x_axis, y_axis)\n",
    "plt.xlabel(\"Latitude\")\n",
    "plt.ylabel(\"Max Temp (F)\")\n",
    "plt.show()"
   ]
  },
  {
   "cell_type": "markdown",
   "metadata": {},
   "source": [
    "####  Southern Hemisphere - Max Temp vs. Latitude Linear Regression"
   ]
  },
  {
   "cell_type": "code",
   "execution_count": 31,
   "metadata": {},
   "outputs": [
    {
     "name": "stdout",
     "output_type": "stream",
     "text": [
      "The r-value is: 0.32086093437668545\n"
     ]
    },
    {
     "data": {
      "image/png": "[encoded data removed]",
      "text/plain": [
       "<Figure size 432x288 with 1 Axes>"
      ]
     },
     "metadata": {
      "needs_background": "light"
     },
     "output_type": "display_data"
    }
   ],
   "source": [
    "x_axis = weather_south[\"Lat\"]\n",
    "y_axis = weather_south[\"Max Temp (F)\"]\n",
    "plt.scatter(x_axis, y_axis)\n",
    "Linear_Regression_Plots(x_axis, y_axis)\n",
    "plt.xlabel(\"Latitude\")\n",
    "plt.ylabel(\"Max Temp (F)\")\n",
    "plt.show()"
   ]
  },
  {
   "cell_type": "markdown",
   "metadata": {},
   "source": [
    "####  Northern Hemisphere - Humidity (%) vs. Latitude Linear Regression"
   ]
  },
  {
   "cell_type": "code",
   "execution_count": 32,
   "metadata": {},
   "outputs": [
    {
     "name": "stdout",
     "output_type": "stream",
     "text": [
      "The r-value is: 0.07214828809775514\n"
     ]
    },
    {
     "data": {
      "image/png": "[encoded data removed]",
      "text/plain": [
       "<Figure size 432x288 with 1 Axes>"
      ]
     },
     "metadata": {
      "needs_background": "light"
     },
     "output_type": "display_data"
    }
   ],
   "source": [
    "x_axis = weather_north[\"Lat\"]\n",
    "y_axis = weather_north[\"Humidity (%)\"]\n",
    "plt.scatter(x_axis, y_axis)\n",
    "Linear_Regression_Plots(x_axis, y_axis)\n",
    "plt.xlabel(\"Latitude\")\n",
    "plt.ylabel(\"Humidity (%)\")\n",
    "plt.show()"
   ]
  },
  {
   "cell_type": "markdown",
   "metadata": {},
   "source": [
    "####  Southern Hemisphere - Humidity (%) vs. Latitude Linear Regression"
   ]
  },
  {
   "cell_type": "code",
   "execution_count": 33,
   "metadata": {},
   "outputs": [
    {
     "name": "stdout",
     "output_type": "stream",
     "text": [
      "The r-value is: 0.069361725548976\n"
     ]
    },
    {
     "data": {
      "image/png": "[encoded data removed]",
      "text/plain": [
       "<Figure size 432x288 with 1 Axes>"
      ]
     },
     "metadata": {
      "needs_background": "light"
     },
     "output_type": "display_data"
    }
   ],
   "source": [
    "x_axis = weather_south[\"Lat\"]\n",
    "y_axis = weather_south[\"Humidity (%)\"]\n",
    "plt.scatter(x_axis, y_axis)\n",
    "Linear_Regression_Plots(x_axis, y_axis)\n",
    "plt.xlabel(\"Latitude\")\n",
    "plt.ylabel(\"Humidity (%)\")\n",
    "plt.show()"
   ]
  },
  {
   "cell_type": "markdown",
   "metadata": {},
   "source": [
    "####  Northern Hemisphere - Cloudiness (%) vs. Latitude Linear Regression"
   ]
  },
  {
   "cell_type": "code",
   "execution_count": 34,
   "metadata": {},
   "outputs": [
    {
     "name": "stdout",
     "output_type": "stream",
     "text": [
      "The r-value is: 0.04690842741742436\n"
     ]
    },
    {
     "data": {
      "image/png": "[encoded data removed]",
      "text/plain": [
       "<Figure size 432x288 with 1 Axes>"
      ]
     },
     "metadata": {
      "needs_background": "light"
     },
     "output_type": "display_data"
    }
   ],
   "source": [
    "x_axis = weather_north[\"Lat\"]\n",
    "y_axis = weather_north[\"Cloudiness (%)\"]\n",
    "plt.scatter(x_axis, y_axis)\n",
    "Linear_Regression_Plots(x_axis, y_axis)\n",
    "plt.xlabel(\"Latitude\")\n",
    "plt.ylabel(\"Cloudiness (%)\")\n",
    "plt.show()"
   ]
  },
  {
   "cell_type": "markdown",
   "metadata": {},
   "source": [
    "####  Southern Hemisphere - Cloudiness (%) vs. Latitude Linear Regression"
   ]
  },
  {
   "cell_type": "code",
   "execution_count": 35,
   "metadata": {},
   "outputs": [
    {
     "name": "stdout",
     "output_type": "stream",
     "text": [
      "The r-value is: 0.07861414303831821\n"
     ]
    },
    {
     "data": {
      "image/png": "[encoded data removed]",
      "text/plain": [
       "<Figure size 432x288 with 1 Axes>"
      ]
     },
     "metadata": {
      "needs_background": "light"
     },
     "output_type": "display_data"
    }
   ],
   "source": [
    "x_axis = weather_south[\"Lat\"]\n",
    "y_axis = weather_south[\"Cloudiness (%)\"]\n",
    "plt.scatter(x_axis, y_axis)\n",
    "Linear_Regression_Plots(x_axis, y_axis)\n",
    "plt.xlabel(\"Latitude\")\n",
    "plt.ylabel(\"Cloudiness (%)\")\n",
    "plt.show()"
   ]
  },
  {
   "cell_type": "markdown",
   "metadata": {},
   "source": [
    "####  Northern Hemisphere - Wind Speed (mph) vs. Latitude Linear Regression"
   ]
  },
  {
   "cell_type": "code",
   "execution_count": 36,
   "metadata": {},
   "outputs": [
    {
     "name": "stdout",
     "output_type": "stream",
     "text": [
      "The r-value is: 0.05726977121528452\n"
     ]
    },
    {
     "data": {
      "image/png": "[encoded data removed]",
      "text/plain": [
       "<Figure size 432x288 with 1 Axes>"
      ]
     },
     "metadata": {
      "needs_background": "light"
     },
     "output_type": "display_data"
    }
   ],
   "source": [
    "x_axis = weather_north[\"Lat\"]\n",
    "y_axis = weather_north[\"Wind Speed (mph)\"]\n",
    "plt.scatter(x_axis, y_axis)\n",
    "Linear_Regression_Plots(x_axis, y_axis)\n",
    "plt.xlabel(\"Latitude\")\n",
    "plt.ylabel(\"Wind Speed (mph)\")\n",
    "plt.show()"
   ]
  },
  {
   "cell_type": "markdown",
   "metadata": {},
   "source": [
    "####  Southern Hemisphere - Wind Speed (mph) vs. Latitude Linear Regression"
   ]
  },
  {
   "cell_type": "code",
   "execution_count": 37,
   "metadata": {},
   "outputs": [
    {
     "name": "stdout",
     "output_type": "stream",
     "text": [
      "The r-value is: 0.07909815241695992\n"
     ]
    },
    {
     "data": {
      "image/png": "[encoded data removed]",
      "text/plain": [
       "<Figure size 432x288 with 1 Axes>"
      ]
     },
     "metadata": {
      "needs_background": "light"
     },
     "output_type": "display_data"
    }
   ],
   "source": [
    "x_axis = weather_south[\"Lat\"]\n",
    "y_axis = weather_south[\"Wind Speed (mph)\"]\n",
    "plt.scatter(x_axis, y_axis)\n",
    "Linear_Regression_Plots(x_axis, y_axis)\n",
    "plt.xlabel(\"Latitude\")\n",
    "plt.ylabel(\"Wind Speed (mph)\")\n",
    "plt.show()"
   ]
  },
  {
   "cell_type": "code",
   "execution_count": null,
   "metadata": {},
   "outputs": [],
   "source": []
  }
 ],
 "metadata": {
  "anaconda-cloud": {},
  "kernel_info": {
   "name": "python3"
  },
  "kernelspec": {
   "display_name": "Python 3 (ipykernel)",
   "language": "python",
   "name": "python3"
  },
  "language_info": {
   "codemirror_mode": {
    "name": "ipython",
    "version": 3
   },
   "file_extension": ".py",
   "mimetype": "text/x-python",
   "name": "python",
   "nbconvert_exporter": "python",
   "pygments_lexer": "ipython3",
   "version": "3.9.12"
  },
  "latex_envs": {
   "LaTeX_envs_menu_present": true,
   "autoclose": false,
   "autocomplete": true,
   "bibliofile": "biblio.bib",
   "cite_by": "apalike",
   "current_citInitial": 1,
   "eqLabelWithNumbers": true,
   "eqNumInitial": 1,
   "hotkeys": {
    "equation": "Ctrl-E",
    "itemize": "Ctrl-I"
   },
   "labels_anchors": false,
   "latex_user_defs": false,
   "report_style_numbering": false,
   "user_envs_cfg": false
  },
  "nteract": {
   "version": "0.12.3"
  }
 },
 "nbformat": 4,
 "nbformat_minor": 2
}
